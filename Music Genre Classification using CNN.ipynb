{
 "cells": [
  {
   "cell_type": "code",
   "execution_count": 1,
   "metadata": {
    "_cell_guid": "b1076dfc-b9ad-4769-8c92-a6c4dae69d19",
    "_kg_hide-input": false,
    "_uuid": "8f2839f25d086af736a60e9eeb907d3b93b6e0e5",
    "execution": {
     "iopub.execute_input": "2021-12-14T22:18:42.647255Z",
     "iopub.status.busy": "2021-12-14T22:18:42.646508Z",
     "iopub.status.idle": "2021-12-14T22:18:43.716737Z",
     "shell.execute_reply": "2021-12-14T22:18:43.715955Z",
     "shell.execute_reply.started": "2021-12-14T22:18:42.647125Z"
    }
   },
   "outputs": [],
   "source": [
    "# This Python 3 environment comes with many helpful analytics libraries installed\n",
    "# It is defined by the kaggle/python Docker image: https://github.com/kaggle/docker-python\n",
    "# For example, here's several helpful packages to load\n",
    "\n",
    "import numpy as np # linear algebra\n",
    "import pandas as pd # data processing, CSV file I/O (e.g. pd.read_csv)\n",
    "\n",
    "# Input data files are available in the read-only \"../input/\" directory\n",
    "# For example, running this (by clicking run or pressing Shift+Enter) will list all files under the input directory\n",
    "\n",
    "import os\n",
    "for dirname, _, filenames in os.walk('/kaggle/input'):\n",
    "    for filename in filenames:\n",
    "        print(os.path.join(dirname, filename))\n",
    "\n",
    "# You can write up to 20GB to the current directory (/kaggle/working/) that gets preserved as output when you create a version using \"Save & Run All\" \n",
    "# You can also write temporary files to /kaggle/temp/, but they won't be saved outside of the current session"
   ]
  },
  {
   "cell_type": "markdown",
   "metadata": {},
   "source": [
    "## Importing Libraries"
   ]
  },
  {
   "cell_type": "code",
   "execution_count": 2,
   "metadata": {
    "execution": {
     "iopub.execute_input": "2021-09-18T11:13:32.642048Z",
     "iopub.status.busy": "2021-09-18T11:13:32.641703Z",
     "iopub.status.idle": "2021-09-18T11:13:32.647672Z",
     "shell.execute_reply": "2021-09-18T11:13:32.646661Z",
     "shell.execute_reply.started": "2021-09-18T11:13:32.642009Z"
    }
   },
   "outputs": [],
   "source": [
    "import pandas as pd\n",
    "import numpy as np \n",
    "import matplotlib.pyplot as plt\n",
    "import scipy\n",
    "import os\n",
    "import pickle\n",
    "import librosa\n",
    "import librosa.display\n",
    "from IPython.display import Audio\n",
    "from sklearn.model_selection import train_test_split\n",
    "from sklearn.preprocessing import LabelEncoder\n",
    "import tensorflow as tf\n",
    "from tensorflow import keras"
   ]
  },
  {
   "cell_type": "code",
   "execution_count": 4,
   "metadata": {
    "execution": {
     "iopub.execute_input": "2021-09-18T11:13:32.649883Z",
     "iopub.status.busy": "2021-09-18T11:13:32.648794Z",
     "iopub.status.idle": "2021-09-18T11:13:32.84638Z",
     "shell.execute_reply": "2021-09-18T11:13:32.845535Z",
     "shell.execute_reply.started": "2021-09-18T11:13:32.649843Z"
    }
   },
   "outputs": [
    {
     "data": {
      "text/html": [
       "<div>\n",
       "<style scoped>\n",
       "    .dataframe tbody tr th:only-of-type {\n",
       "        vertical-align: middle;\n",
       "    }\n",
       "\n",
       "    .dataframe tbody tr th {\n",
       "        vertical-align: top;\n",
       "    }\n",
       "\n",
       "    .dataframe thead th {\n",
       "        text-align: right;\n",
       "    }\n",
       "</style>\n",
       "<table border=\"1\" class=\"dataframe\">\n",
       "  <thead>\n",
       "    <tr style=\"text-align: right;\">\n",
       "      <th></th>\n",
       "      <th>filename</th>\n",
       "      <th>length</th>\n",
       "      <th>chroma_stft_mean</th>\n",
       "      <th>chroma_stft_var</th>\n",
       "      <th>rms_mean</th>\n",
       "      <th>rms_var</th>\n",
       "      <th>spectral_centroid_mean</th>\n",
       "      <th>spectral_centroid_var</th>\n",
       "      <th>spectral_bandwidth_mean</th>\n",
       "      <th>spectral_bandwidth_var</th>\n",
       "      <th>...</th>\n",
       "      <th>mfcc16_var</th>\n",
       "      <th>mfcc17_mean</th>\n",
       "      <th>mfcc17_var</th>\n",
       "      <th>mfcc18_mean</th>\n",
       "      <th>mfcc18_var</th>\n",
       "      <th>mfcc19_mean</th>\n",
       "      <th>mfcc19_var</th>\n",
       "      <th>mfcc20_mean</th>\n",
       "      <th>mfcc20_var</th>\n",
       "      <th>label</th>\n",
       "    </tr>\n",
       "  </thead>\n",
       "  <tbody>\n",
       "    <tr>\n",
       "      <th>0</th>\n",
       "      <td>blues.00000.0.wav</td>\n",
       "      <td>66149</td>\n",
       "      <td>0.335406</td>\n",
       "      <td>0.091048</td>\n",
       "      <td>0.130405</td>\n",
       "      <td>0.003521</td>\n",
       "      <td>1773.065032</td>\n",
       "      <td>167541.630869</td>\n",
       "      <td>1972.744388</td>\n",
       "      <td>117335.771563</td>\n",
       "      <td>...</td>\n",
       "      <td>39.687145</td>\n",
       "      <td>-3.241280</td>\n",
       "      <td>36.488243</td>\n",
       "      <td>0.722209</td>\n",
       "      <td>38.099152</td>\n",
       "      <td>-5.050335</td>\n",
       "      <td>33.618073</td>\n",
       "      <td>-0.243027</td>\n",
       "      <td>43.771767</td>\n",
       "      <td>blues</td>\n",
       "    </tr>\n",
       "    <tr>\n",
       "      <th>1</th>\n",
       "      <td>blues.00000.1.wav</td>\n",
       "      <td>66149</td>\n",
       "      <td>0.343065</td>\n",
       "      <td>0.086147</td>\n",
       "      <td>0.112699</td>\n",
       "      <td>0.001450</td>\n",
       "      <td>1816.693777</td>\n",
       "      <td>90525.690866</td>\n",
       "      <td>2010.051501</td>\n",
       "      <td>65671.875673</td>\n",
       "      <td>...</td>\n",
       "      <td>64.748276</td>\n",
       "      <td>-6.055294</td>\n",
       "      <td>40.677654</td>\n",
       "      <td>0.159015</td>\n",
       "      <td>51.264091</td>\n",
       "      <td>-2.837699</td>\n",
       "      <td>97.030830</td>\n",
       "      <td>5.784063</td>\n",
       "      <td>59.943081</td>\n",
       "      <td>blues</td>\n",
       "    </tr>\n",
       "    <tr>\n",
       "      <th>2</th>\n",
       "      <td>blues.00000.2.wav</td>\n",
       "      <td>66149</td>\n",
       "      <td>0.346815</td>\n",
       "      <td>0.092243</td>\n",
       "      <td>0.132003</td>\n",
       "      <td>0.004620</td>\n",
       "      <td>1788.539719</td>\n",
       "      <td>111407.437613</td>\n",
       "      <td>2084.565132</td>\n",
       "      <td>75124.921716</td>\n",
       "      <td>...</td>\n",
       "      <td>67.336563</td>\n",
       "      <td>-1.768610</td>\n",
       "      <td>28.348579</td>\n",
       "      <td>2.378768</td>\n",
       "      <td>45.717648</td>\n",
       "      <td>-1.938424</td>\n",
       "      <td>53.050835</td>\n",
       "      <td>2.517375</td>\n",
       "      <td>33.105122</td>\n",
       "      <td>blues</td>\n",
       "    </tr>\n",
       "    <tr>\n",
       "      <th>3</th>\n",
       "      <td>blues.00000.3.wav</td>\n",
       "      <td>66149</td>\n",
       "      <td>0.363639</td>\n",
       "      <td>0.086856</td>\n",
       "      <td>0.132565</td>\n",
       "      <td>0.002448</td>\n",
       "      <td>1655.289045</td>\n",
       "      <td>111952.284517</td>\n",
       "      <td>1960.039988</td>\n",
       "      <td>82913.639269</td>\n",
       "      <td>...</td>\n",
       "      <td>47.739452</td>\n",
       "      <td>-3.841155</td>\n",
       "      <td>28.337118</td>\n",
       "      <td>1.218588</td>\n",
       "      <td>34.770935</td>\n",
       "      <td>-3.580352</td>\n",
       "      <td>50.836224</td>\n",
       "      <td>3.630866</td>\n",
       "      <td>32.023678</td>\n",
       "      <td>blues</td>\n",
       "    </tr>\n",
       "    <tr>\n",
       "      <th>4</th>\n",
       "      <td>blues.00000.4.wav</td>\n",
       "      <td>66149</td>\n",
       "      <td>0.335579</td>\n",
       "      <td>0.088129</td>\n",
       "      <td>0.143289</td>\n",
       "      <td>0.001701</td>\n",
       "      <td>1630.656199</td>\n",
       "      <td>79667.267654</td>\n",
       "      <td>1948.503884</td>\n",
       "      <td>60204.020268</td>\n",
       "      <td>...</td>\n",
       "      <td>30.336359</td>\n",
       "      <td>0.664582</td>\n",
       "      <td>45.880913</td>\n",
       "      <td>1.689446</td>\n",
       "      <td>51.363583</td>\n",
       "      <td>-3.392489</td>\n",
       "      <td>26.738789</td>\n",
       "      <td>0.536961</td>\n",
       "      <td>29.146694</td>\n",
       "      <td>blues</td>\n",
       "    </tr>\n",
       "  </tbody>\n",
       "</table>\n",
       "<p>5 rows × 60 columns</p>\n",
       "</div>"
      ],
      "text/plain": [
       "            filename  length  chroma_stft_mean  chroma_stft_var  rms_mean  \\\n",
       "0  blues.00000.0.wav   66149          0.335406         0.091048  0.130405   \n",
       "1  blues.00000.1.wav   66149          0.343065         0.086147  0.112699   \n",
       "2  blues.00000.2.wav   66149          0.346815         0.092243  0.132003   \n",
       "3  blues.00000.3.wav   66149          0.363639         0.086856  0.132565   \n",
       "4  blues.00000.4.wav   66149          0.335579         0.088129  0.143289   \n",
       "\n",
       "    rms_var  spectral_centroid_mean  spectral_centroid_var  \\\n",
       "0  0.003521             1773.065032          167541.630869   \n",
       "1  0.001450             1816.693777           90525.690866   \n",
       "2  0.004620             1788.539719          111407.437613   \n",
       "3  0.002448             1655.289045          111952.284517   \n",
       "4  0.001701             1630.656199           79667.267654   \n",
       "\n",
       "   spectral_bandwidth_mean  spectral_bandwidth_var  ...  mfcc16_var  \\\n",
       "0              1972.744388           117335.771563  ...   39.687145   \n",
       "1              2010.051501            65671.875673  ...   64.748276   \n",
       "2              2084.565132            75124.921716  ...   67.336563   \n",
       "3              1960.039988            82913.639269  ...   47.739452   \n",
       "4              1948.503884            60204.020268  ...   30.336359   \n",
       "\n",
       "   mfcc17_mean  mfcc17_var  mfcc18_mean  mfcc18_var  mfcc19_mean  mfcc19_var  \\\n",
       "0    -3.241280   36.488243     0.722209   38.099152    -5.050335   33.618073   \n",
       "1    -6.055294   40.677654     0.159015   51.264091    -2.837699   97.030830   \n",
       "2    -1.768610   28.348579     2.378768   45.717648    -1.938424   53.050835   \n",
       "3    -3.841155   28.337118     1.218588   34.770935    -3.580352   50.836224   \n",
       "4     0.664582   45.880913     1.689446   51.363583    -3.392489   26.738789   \n",
       "\n",
       "   mfcc20_mean  mfcc20_var  label  \n",
       "0    -0.243027   43.771767  blues  \n",
       "1     5.784063   59.943081  blues  \n",
       "2     2.517375   33.105122  blues  \n",
       "3     3.630866   32.023678  blues  \n",
       "4     0.536961   29.146694  blues  \n",
       "\n",
       "[5 rows x 60 columns]"
      ]
     },
     "execution_count": 4,
     "metadata": {},
     "output_type": "execute_result"
    }
   ],
   "source": [
    "base = 'C:/Users/liora/Documents/Engineering/3rd Year/Individual project (EG3005)/Music Genre Classification/archive/'\n",
    "df = pd.read_csv(base+\"features_3_sec.csv\")\n",
    "df.head()"
   ]
  },
  {
   "cell_type": "code",
   "execution_count": null,
   "metadata": {
    "execution": {
     "iopub.execute_input": "2021-09-18T11:13:32.847983Z",
     "iopub.status.busy": "2021-09-18T11:13:32.847662Z",
     "iopub.status.idle": "2021-09-18T11:13:32.857642Z",
     "shell.execute_reply": "2021-09-18T11:13:32.856765Z",
     "shell.execute_reply.started": "2021-09-18T11:13:32.847941Z"
    }
   },
   "outputs": [],
   "source": [
    "df.shape"
   ]
  },
  {
   "cell_type": "code",
   "execution_count": null,
   "metadata": {
    "_kg_hide-input": false,
    "execution": {
     "iopub.execute_input": "2021-09-18T11:13:32.861409Z",
     "iopub.status.busy": "2021-09-18T11:13:32.86113Z",
     "iopub.status.idle": "2021-09-18T11:13:32.870354Z",
     "shell.execute_reply": "2021-09-18T11:13:32.869352Z",
     "shell.execute_reply.started": "2021-09-18T11:13:32.861372Z"
    }
   },
   "outputs": [],
   "source": [
    "df.dtypes"
   ]
  },
  {
   "cell_type": "code",
   "execution_count": null,
   "metadata": {
    "execution": {
     "iopub.execute_input": "2021-09-18T11:13:32.872784Z",
     "iopub.status.busy": "2021-09-18T11:13:32.872197Z",
     "iopub.status.idle": "2021-09-18T11:13:32.882772Z",
     "shell.execute_reply": "2021-09-18T11:13:32.882148Z",
     "shell.execute_reply.started": "2021-09-18T11:13:32.872741Z"
    }
   },
   "outputs": [],
   "source": [
    "df=df.drop(labels=\"filename\",axis=1)"
   ]
  },
  {
   "cell_type": "markdown",
   "metadata": {},
   "source": [
    "## Understanding the audio files"
   ]
  },
  {
   "cell_type": "code",
   "execution_count": null,
   "metadata": {
    "execution": {
     "iopub.execute_input": "2021-09-18T11:13:32.885874Z",
     "iopub.status.busy": "2021-09-18T11:13:32.885482Z",
     "iopub.status.idle": "2021-09-18T11:13:32.896893Z",
     "shell.execute_reply": "2021-09-18T11:13:32.896186Z",
     "shell.execute_reply.started": "2021-09-18T11:13:32.88584Z"
    }
   },
   "outputs": [],
   "source": [
    "audio_recording=\"/kaggle/input/gtzan-dataset-music-genre-classification/Data/genres_original/country/country.00050.wav\"\n",
    "data,sr=librosa.load(audio_recording)\n",
    "print(type(data),type(sr))"
   ]
  },
  {
   "cell_type": "code",
   "execution_count": null,
   "metadata": {
    "execution": {
     "iopub.execute_input": "2021-09-18T11:13:32.898683Z",
     "iopub.status.busy": "2021-09-18T11:13:32.898028Z",
     "iopub.status.idle": "2021-09-18T11:13:34.439056Z",
     "shell.execute_reply": "2021-09-18T11:13:34.438279Z",
     "shell.execute_reply.started": "2021-09-18T11:13:32.898642Z"
    }
   },
   "outputs": [],
   "source": [
    "librosa.load(audio_recording,sr=45600)"
   ]
  },
  {
   "cell_type": "markdown",
   "metadata": {},
   "source": [
    "With the help of IPython.display.Audio we can play audio in the notebook. It is a library used for playing the audio in the jupyterlab. "
   ]
  },
  {
   "cell_type": "code",
   "execution_count": null,
   "metadata": {
    "execution": {
     "iopub.execute_input": "2021-09-18T11:13:34.445573Z",
     "iopub.status.busy": "2021-09-18T11:13:34.443034Z",
     "iopub.status.idle": "2021-09-18T11:13:34.513189Z",
     "shell.execute_reply": "2021-09-18T11:13:34.512505Z",
     "shell.execute_reply.started": "2021-09-18T11:13:34.445516Z"
    }
   },
   "outputs": [],
   "source": [
    "import IPython\n",
    "IPython.display.Audio(data,rate=sr)"
   ]
  },
  {
   "cell_type": "markdown",
   "metadata": {},
   "source": [
    "## Visualising audio files"
   ]
  },
  {
   "cell_type": "markdown",
   "metadata": {},
   "source": [
    "### Plotting Raw wave files"
   ]
  },
  {
   "cell_type": "code",
   "execution_count": null,
   "metadata": {
    "execution": {
     "iopub.execute_input": "2021-09-18T11:13:34.515142Z",
     "iopub.status.busy": "2021-09-18T11:13:34.51443Z",
     "iopub.status.idle": "2021-09-18T11:13:34.842841Z",
     "shell.execute_reply": "2021-09-18T11:13:34.842168Z",
     "shell.execute_reply.started": "2021-09-18T11:13:34.515053Z"
    }
   },
   "outputs": [],
   "source": [
    "plt.figure(figsize=(12,4))\n",
    "librosa.display.waveplot(data,color=\"#2B4F72\")\n",
    "plt.show()"
   ]
  },
  {
   "cell_type": "markdown",
   "metadata": {},
   "source": [
    "Waveforms are visual representations of sound as time on the x-axis and amplitude on the y-axis. They are great for allowing us to quickly scan the audio data and visually compare and contrast which genres might be more similar than others."
   ]
  },
  {
   "cell_type": "markdown",
   "metadata": {},
   "source": [
    "### Spectrogram\n",
    "A spectrogram is a visual way of representing the signal loudness of a signal over time at various frequencies present in a particular waveform. Not only can one see whether there is more or less energy at, for example, 2 Hz vs 10 Hz, but one can also see how energy levels vary over time.\n",
    "Spectrograms are sometimes called sonographs, voiceprints, or voicegrams. When the data is represented in a 3D plot, they may be called waterfalls. In 2-dimensional arrays, the first axis is frequency while the second axis is time"
   ]
  },
  {
   "cell_type": "code",
   "execution_count": null,
   "metadata": {
    "execution": {
     "iopub.execute_input": "2021-09-18T11:13:34.844412Z",
     "iopub.status.busy": "2021-09-18T11:13:34.844077Z",
     "iopub.status.idle": "2021-09-18T11:13:36.483013Z",
     "shell.execute_reply": "2021-09-18T11:13:36.482225Z",
     "shell.execute_reply.started": "2021-09-18T11:13:34.844373Z"
    }
   },
   "outputs": [],
   "source": [
    "stft=librosa.stft(data)\n",
    "stft_db=librosa.amplitude_to_db(abs(stft))\n",
    "plt.figure(figsize=(14,6))\n",
    "librosa.display.specshow(stft,sr=sr,x_axis='time',y_axis='hz')\n",
    "plt.colorbar()"
   ]
  },
  {
   "cell_type": "code",
   "execution_count": null,
   "metadata": {
    "execution": {
     "iopub.execute_input": "2021-09-18T11:13:36.484662Z",
     "iopub.status.busy": "2021-09-18T11:13:36.484314Z",
     "iopub.status.idle": "2021-09-18T11:13:37.854266Z",
     "shell.execute_reply": "2021-09-18T11:13:37.853418Z",
     "shell.execute_reply.started": "2021-09-18T11:13:36.484626Z"
    }
   },
   "outputs": [],
   "source": [
    "stft=librosa.stft(data)\n",
    "stft_db=librosa.amplitude_to_db(abs(stft))\n",
    "plt.figure(figsize=(14,6))\n",
    "librosa.display.specshow(stft_db,sr=sr,x_axis='time',y_axis='hz')\n",
    "plt.colorbar()"
   ]
  },
  {
   "cell_type": "markdown",
   "metadata": {},
   "source": [
    "### Spectral Roll-Off\n",
    "Spectral Rolloff is the frequency below which a specified percentage of the total spectral energy, e.g. 85%, lies\n",
    "librosa.feature.spectral_rolloff computes the rolloff frequency for each frame in a signal."
   ]
  },
  {
   "cell_type": "code",
   "execution_count": null,
   "metadata": {
    "execution": {
     "iopub.execute_input": "2021-09-18T11:13:37.856086Z",
     "iopub.status.busy": "2021-09-18T11:13:37.855832Z",
     "iopub.status.idle": "2021-09-18T11:13:38.50206Z",
     "shell.execute_reply": "2021-09-18T11:13:38.501358Z",
     "shell.execute_reply.started": "2021-09-18T11:13:37.856055Z"
    }
   },
   "outputs": [],
   "source": [
    "spectral_rolloff=librosa.feature.spectral_rolloff(data+0.01,sr=sr)[0]\n",
    "plt.figure(figsize=(14,6))\n",
    "librosa.display.waveplot(data,sr=sr,alpha=0.4,color=\"#2B4F72\")"
   ]
  },
  {
   "cell_type": "markdown",
   "metadata": {},
   "source": [
    "### Chroma Feature\n",
    "It is a powerful tool for analyzing music features whose pitches can be meaningfully categorized and whose tuning approximates to the equal-tempered scale. One main property of chroma features is that they capture harmonic and melodic characteristics of music while being robust to changes in timbre and instrumentation"
   ]
  },
  {
   "cell_type": "code",
   "execution_count": null,
   "metadata": {
    "execution": {
     "iopub.execute_input": "2021-09-18T11:13:38.505455Z",
     "iopub.status.busy": "2021-09-18T11:13:38.505249Z",
     "iopub.status.idle": "2021-09-18T11:13:38.987932Z",
     "shell.execute_reply": "2021-09-18T11:13:38.987223Z",
     "shell.execute_reply.started": "2021-09-18T11:13:38.505431Z"
    }
   },
   "outputs": [],
   "source": [
    "import librosa.display as lplt\n",
    "chroma = librosa.feature.chroma_stft(data,sr=sr)\n",
    "plt.figure(figsize=(14,6))\n",
    "lplt.specshow(chroma,sr=sr,x_axis=\"time\",y_axis=\"chroma\",cmap=\"coolwarm\")\n",
    "plt.colorbar()\n",
    "plt.title(\"Chroma Features\")\n",
    "plt.show()"
   ]
  },
  {
   "cell_type": "markdown",
   "metadata": {},
   "source": [
    "### Zero Crossing Rate\n",
    "Zero crossing is said to occur if successive samples have different algebraic signs. The rate at which zero-crossings occur is a simple measure of the frequency content of a signal. Zero-crossing rate is a measure of the number of times in a given time interval/frame that the amplitude of the speech signals passes through a value of zero."
   ]
  },
  {
   "cell_type": "code",
   "execution_count": null,
   "metadata": {
    "execution": {
     "iopub.execute_input": "2021-09-18T11:13:38.989491Z",
     "iopub.status.busy": "2021-09-18T11:13:38.989151Z",
     "iopub.status.idle": "2021-09-18T11:13:39.200227Z",
     "shell.execute_reply": "2021-09-18T11:13:39.199521Z",
     "shell.execute_reply.started": "2021-09-18T11:13:38.989454Z"
    }
   },
   "outputs": [],
   "source": [
    "start=1000\n",
    "end=1200\n",
    "plt.figure(figsize=(12,4))\n",
    "plt.plot(data[start:end],color=\"#2B4F72\")\n",
    "plt.grid()"
   ]
  },
  {
   "cell_type": "code",
   "execution_count": null,
   "metadata": {
    "execution": {
     "iopub.execute_input": "2021-09-18T11:13:39.202116Z",
     "iopub.status.busy": "2021-09-18T11:13:39.201344Z",
     "iopub.status.idle": "2021-09-18T11:13:39.209563Z",
     "shell.execute_reply": "2021-09-18T11:13:39.208617Z",
     "shell.execute_reply.started": "2021-09-18T11:13:39.202076Z"
    }
   },
   "outputs": [],
   "source": [
    "zero_cross_rate=librosa.zero_crossings(data[start:end],pad=False)\n",
    "print(\"the numbert of zero_crossings is :\", sum(zero_cross_rate))"
   ]
  },
  {
   "cell_type": "markdown",
   "metadata": {},
   "source": [
    "## Feature Extraction\n",
    "Preprocessing of data is required before we finally train the data. We will try and focus on the last column that is ‘label’ and will encode it with the function LabelEncoder() of sklearn.preprocessing."
   ]
  },
  {
   "cell_type": "code",
   "execution_count": null,
   "metadata": {
    "execution": {
     "iopub.execute_input": "2021-09-18T11:13:39.211943Z",
     "iopub.status.busy": "2021-09-18T11:13:39.21102Z",
     "iopub.status.idle": "2021-09-18T11:13:39.219473Z",
     "shell.execute_reply": "2021-09-18T11:13:39.218759Z",
     "shell.execute_reply.started": "2021-09-18T11:13:39.211906Z"
    }
   },
   "outputs": [],
   "source": [
    "class_list=df.iloc[:,-1]\n",
    "converter=LabelEncoder()"
   ]
  },
  {
   "cell_type": "code",
   "execution_count": null,
   "metadata": {
    "execution": {
     "iopub.execute_input": "2021-09-18T11:13:39.221078Z",
     "iopub.status.busy": "2021-09-18T11:13:39.220654Z",
     "iopub.status.idle": "2021-09-18T11:13:39.233034Z",
     "shell.execute_reply": "2021-09-18T11:13:39.232076Z",
     "shell.execute_reply.started": "2021-09-18T11:13:39.22104Z"
    }
   },
   "outputs": [],
   "source": [
    "y=converter.fit_transform(class_list)\n",
    "y"
   ]
  },
  {
   "cell_type": "code",
   "execution_count": null,
   "metadata": {
    "execution": {
     "iopub.execute_input": "2021-09-18T11:13:39.235197Z",
     "iopub.status.busy": "2021-09-18T11:13:39.234919Z",
     "iopub.status.idle": "2021-09-18T11:13:39.257405Z",
     "shell.execute_reply": "2021-09-18T11:13:39.256382Z",
     "shell.execute_reply.started": "2021-09-18T11:13:39.235162Z"
    }
   },
   "outputs": [],
   "source": [
    "print(df.iloc[:,:-1])"
   ]
  },
  {
   "cell_type": "markdown",
   "metadata": {},
   "source": [
    "## Scaling the features\n",
    "Standard scaler is used to standardize features by removing the mean and scaling to unit variance.\n",
    "The standard score of sample x is calculated as:\n",
    "z = (x - u) / s"
   ]
  },
  {
   "cell_type": "code",
   "execution_count": null,
   "metadata": {
    "execution": {
     "iopub.execute_input": "2021-09-18T11:13:39.25946Z",
     "iopub.status.busy": "2021-09-18T11:13:39.258957Z",
     "iopub.status.idle": "2021-09-18T11:13:39.275016Z",
     "shell.execute_reply": "2021-09-18T11:13:39.274267Z",
     "shell.execute_reply.started": "2021-09-18T11:13:39.259422Z"
    }
   },
   "outputs": [],
   "source": [
    "from sklearn.preprocessing import StandardScaler\n",
    "fit=StandardScaler()\n",
    "X=fit.fit_transform(np.array(df.iloc[:,:-1],dtype=float))"
   ]
  },
  {
   "cell_type": "markdown",
   "metadata": {},
   "source": [
    "## Dividing Training and Testing Dataset"
   ]
  },
  {
   "cell_type": "code",
   "execution_count": null,
   "metadata": {
    "execution": {
     "iopub.execute_input": "2021-09-18T11:13:39.276539Z",
     "iopub.status.busy": "2021-09-18T11:13:39.27626Z",
     "iopub.status.idle": "2021-09-18T11:13:39.283831Z",
     "shell.execute_reply": "2021-09-18T11:13:39.282987Z",
     "shell.execute_reply.started": "2021-09-18T11:13:39.276487Z"
    }
   },
   "outputs": [],
   "source": [
    "X_train,X_test,y_train,y_test=train_test_split(X,y,test_size=0.33)"
   ]
  },
  {
   "cell_type": "code",
   "execution_count": null,
   "metadata": {
    "execution": {
     "iopub.execute_input": "2021-09-18T11:13:39.285772Z",
     "iopub.status.busy": "2021-09-18T11:13:39.28535Z",
     "iopub.status.idle": "2021-09-18T11:13:39.292063Z",
     "shell.execute_reply": "2021-09-18T11:13:39.291101Z",
     "shell.execute_reply.started": "2021-09-18T11:13:39.285737Z"
    }
   },
   "outputs": [],
   "source": [
    "len(y_test)"
   ]
  },
  {
   "cell_type": "code",
   "execution_count": null,
   "metadata": {
    "execution": {
     "iopub.execute_input": "2021-09-18T11:13:39.293939Z",
     "iopub.status.busy": "2021-09-18T11:13:39.293607Z",
     "iopub.status.idle": "2021-09-18T11:13:39.300997Z",
     "shell.execute_reply": "2021-09-18T11:13:39.300171Z",
     "shell.execute_reply.started": "2021-09-18T11:13:39.293905Z"
    }
   },
   "outputs": [],
   "source": [
    "len(y_train)"
   ]
  },
  {
   "cell_type": "markdown",
   "metadata": {},
   "source": [
    "## Building the model\n"
   ]
  },
  {
   "cell_type": "code",
   "execution_count": null,
   "metadata": {
    "execution": {
     "iopub.execute_input": "2021-09-18T11:13:39.303062Z",
     "iopub.status.busy": "2021-09-18T11:13:39.302499Z",
     "iopub.status.idle": "2021-09-18T11:13:39.308062Z",
     "shell.execute_reply": "2021-09-18T11:13:39.307299Z",
     "shell.execute_reply.started": "2021-09-18T11:13:39.303026Z"
    }
   },
   "outputs": [],
   "source": [
    "from tensorflow.keras.models import Sequential"
   ]
  },
  {
   "cell_type": "code",
   "execution_count": null,
   "metadata": {
    "execution": {
     "iopub.execute_input": "2021-09-18T11:13:39.30982Z",
     "iopub.status.busy": "2021-09-18T11:13:39.309384Z",
     "iopub.status.idle": "2021-09-18T11:13:39.316278Z",
     "shell.execute_reply": "2021-09-18T11:13:39.31559Z",
     "shell.execute_reply.started": "2021-09-18T11:13:39.309787Z"
    }
   },
   "outputs": [],
   "source": [
    "def trainModel(model,epochs,optimizer):\n",
    "    batch_size=128\n",
    "    model.compile(optimizer=optimizer,loss='sparse_categorical_crossentropy',metrics='accuracy')\n",
    "    return model.fit(X_train,y_train,validation_data=(X_test,y_test),epochs=epochs,batch_size=batch_size)"
   ]
  },
  {
   "cell_type": "code",
   "execution_count": null,
   "metadata": {
    "execution": {
     "iopub.execute_input": "2021-09-18T11:13:39.317819Z",
     "iopub.status.busy": "2021-09-18T11:13:39.317535Z",
     "iopub.status.idle": "2021-09-18T11:13:39.327816Z",
     "shell.execute_reply": "2021-09-18T11:13:39.327082Z",
     "shell.execute_reply.started": "2021-09-18T11:13:39.317786Z"
    }
   },
   "outputs": [],
   "source": [
    "def plotValidate(history):\n",
    "    print(\"Validation Accuracy\",max(history.history[\"val_accuracy\"]))\n",
    "    pd.DataFrame(history.history).plot(figsize=(12,6))\n",
    "    plt.show()"
   ]
  },
  {
   "cell_type": "code",
   "execution_count": null,
   "metadata": {
    "execution": {
     "iopub.execute_input": "2021-09-18T11:15:19.980025Z",
     "iopub.status.busy": "2021-09-18T11:15:19.979752Z",
     "iopub.status.idle": "2021-09-18T11:15:19.983433Z",
     "shell.execute_reply": "2021-09-18T11:15:19.982768Z",
     "shell.execute_reply.started": "2021-09-18T11:15:19.979996Z"
    }
   },
   "outputs": [],
   "source": [
    "import tensorflow as tf"
   ]
  },
  {
   "cell_type": "code",
   "execution_count": null,
   "metadata": {
    "execution": {
     "iopub.execute_input": "2021-09-18T11:23:19.457514Z",
     "iopub.status.busy": "2021-09-18T11:23:19.457235Z",
     "iopub.status.idle": "2021-09-18T11:25:30.993794Z",
     "shell.execute_reply": "2021-09-18T11:25:30.993081Z",
     "shell.execute_reply.started": "2021-09-18T11:23:19.457486Z"
    }
   },
   "outputs": [],
   "source": [
    "model=tf.keras.models.Sequential([\n",
    "    tf.keras.layers.Dense(512,activation='relu',input_shape=(X_train.shape[1],)),\n",
    "    tf.keras.layers.Dropout(0.2),\n",
    "    \n",
    "    tf.keras.layers.Dense(256,activation='relu'),\n",
    "    keras.layers.Dropout(0.2),\n",
    "    \n",
    "    tf.keras.layers.Dense(128,activation='relu'),\n",
    "    tf.keras.layers.Dropout(0.2),\n",
    "    \n",
    "    tf.keras.layers.Dense(64,activation='relu'),\n",
    "    tf.keras.layers.Dropout(0.2),\n",
    "    \n",
    "    tf.keras.layers.Dense(10,activation='softmax'),\n",
    "])\n",
    "\n",
    "print(model.summary())\n",
    "model_history=trainModel(model=model,epochs=600,optimizer='adam')"
   ]
  },
  {
   "cell_type": "markdown",
   "metadata": {},
   "source": [
    "## Model Evaluation"
   ]
  },
  {
   "cell_type": "code",
   "execution_count": null,
   "metadata": {
    "execution": {
     "iopub.execute_input": "2021-09-18T11:27:47.971922Z",
     "iopub.status.busy": "2021-09-18T11:27:47.971302Z",
     "iopub.status.idle": "2021-09-18T11:27:48.068402Z",
     "shell.execute_reply": "2021-09-18T11:27:48.067675Z",
     "shell.execute_reply.started": "2021-09-18T11:27:47.971884Z"
    }
   },
   "outputs": [],
   "source": [
    "test_loss,test_acc=model.evaluate(X_test,y_test,batch_size=128)\n",
    "print(\"The test loss is \",test_loss)\n",
    "print(\"The best accuracy is: \",test_acc*100)"
   ]
  },
  {
   "cell_type": "markdown",
   "metadata": {},
   "source": [
    "For the CNN model, we had used the Adam optimizer for training the model. The epoch that was chosen for the training model is 600.\n",
    "All of the hidden layers are using the RELU activation function and the output layer uses the softmax function. The loss is calculated using the sparse_categorical_crossentropy function.\n",
    "Dropout is used to prevent overfitting.\n",
    "We chose the Adam optimizer because it gave us the best results after evaluating other optimizers.\n",
    "The model accuracy can be increased by further increasing the epochs but after a certain period, we may achieve a threshold, so the value should be determined accordingly."
   ]
  },
  {
   "cell_type": "markdown",
   "metadata": {},
   "source": [
    "The model accuracy can be increased by further increasing the epochs but after a certain period, we may achieve a threshold, so the value should be determined accordingly.\n",
    "The accuracy we achieved for the test set is 92.14 percent which is very decent.\n",
    "So we come to the conclusion that Neural Networks are very effective in machine learning models. Tensorflow is very useful in implementing Convolutional Neural Network (CNN) that helps in the classifying process."
   ]
  }
 ],
 "metadata": {
  "kernelspec": {
   "display_name": "Python 3",
   "language": "python",
   "name": "python3"
  },
  "language_info": {
   "codemirror_mode": {
    "name": "ipython",
    "version": 3
   },
   "file_extension": ".py",
   "mimetype": "text/x-python",
   "name": "python",
   "nbconvert_exporter": "python",
   "pygments_lexer": "ipython3",
   "version": "3.8.8"
  }
 },
 "nbformat": 4,
 "nbformat_minor": 4
}
